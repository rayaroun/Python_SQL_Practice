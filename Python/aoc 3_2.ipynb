{
 "cells": [
  {
   "cell_type": "code",
   "execution_count": 1,
   "metadata": {},
   "outputs": [],
   "source": [
    "from collections import Counter, defaultdict\n",
    "\n",
    "\n",
    "file1 = open(\"/Users/aroun/Documents/Python_SQL_Practice/python/binary.txt\", \"r\")\n",
    "Lines = file1.readlines()\n",
    "nl = [ l[:-1] for l in Lines]\n",
    "\n",
    "\n",
    "oxygen_list = nl.copy()\n",
    "\n",
    "len_oxygen = len(oxygen_list)\n",
    "\n",
    "oxygen_count = defaultdict(dict)"
   ]
  },
  {
   "cell_type": "code",
   "execution_count": 2,
   "metadata": {},
   "outputs": [],
   "source": [
    "# while len_oxygen != 1:\n",
    "\n",
    "for i in range(0,len(nl[0])):\n",
    "\n",
    "    tl = list(map(lambda x : x[i] , oxygen_list))\n",
    "    oxygen_count[i].update(Counter(tl))"
   ]
  },
  {
   "cell_type": "code",
   "execution_count": 18,
   "metadata": {},
   "outputs": [],
   "source": [
    "while len_oxygen != 1:\n",
    "\n",
    "    for key,value in oxygen_count.items():\n",
    "\n",
    "        max_bit = None\n",
    "\n",
    "        if len(set(value.values())) != 1:\n",
    "            max_bit = max(value, key=value.get)\n",
    "        else:\n",
    "            max_bit = 1\n",
    "\n",
    "    oxygen_list = list(filter(lambda x : x[key] == str(max_bit) , oxygen_list))\n",
    "    len_oxygen = len(oxygen_list)\n",
    "\n",
    "    # for k,v in value:\n",
    "\n",
    "    # if len(set(.values())) != 1:\n",
    "    #     max_bit = max(c, key=c.get)\n",
    "    # else:\n",
    "    #     max_bit = 1\n",
    "\n",
    "    # oxygen_list = list(filter(lambda x : x[key] == str(max_bit) , oxygen_list))\n",
    "print(oxygen_list)\n"
   ]
  },
  {
   "cell_type": "code",
   "execution_count": 8,
   "metadata": {},
   "outputs": [
    {
     "data": {
      "text/plain": [
       "dict_values([{'0': 511, '1': 489}, {'0': 509, '1': 491}, {'0': 493, '1': 507}, {'1': 504, '0': 496}, {'1': 506, '0': 494}, {'0': 510, '1': 490}, {'0': 481, '1': 519}, {'1': 498, '0': 502}, {'0': 514, '1': 486}, {'0': 483, '1': 517}, {'0': 498, '1': 502}, {'1': 508, '0': 492}])"
      ]
     },
     "execution_count": 8,
     "metadata": {},
     "output_type": "execute_result"
    }
   ],
   "source": [
    "oxygen_count.values()"
   ]
  }
 ],
 "metadata": {
  "kernelspec": {
   "display_name": "Python 3.9.12 ('base')",
   "language": "python",
   "name": "python3"
  },
  "language_info": {
   "codemirror_mode": {
    "name": "ipython",
    "version": 3
   },
   "file_extension": ".py",
   "mimetype": "text/x-python",
   "name": "python",
   "nbconvert_exporter": "python",
   "pygments_lexer": "ipython3",
   "version": "3.9.12"
  },
  "orig_nbformat": 4,
  "vscode": {
   "interpreter": {
    "hash": "3487d83014b527b8a3ee277e63a281a16ae670e19077bc327962ef04e34eee26"
   }
  }
 },
 "nbformat": 4,
 "nbformat_minor": 2
}
